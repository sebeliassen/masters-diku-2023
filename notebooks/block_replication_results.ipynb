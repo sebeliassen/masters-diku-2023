{
 "cells": [
  {
   "cell_type": "code",
   "execution_count": 5,
   "metadata": {},
   "outputs": [
    {
     "name": "stdout",
     "output_type": "stream",
     "text": [
      "Mems:  []\n",
      "Speeds:  []\n",
      "Energies:  []\n"
     ]
    }
   ],
   "source": [
    "import re\n",
    "\n",
    "# Initialize the lists\n",
    "mems = []\n",
    "speeds = []\n",
    "energies = []\n",
    "\n",
    "other_dir = \"../mem_speed_bench/\"\n",
    "with open(f'{other_dir}output_g_flickr_optimal_lo_long_acc.txt', 'r') as file:\n",
    "    text = file.read()\n",
    "    # Create blocks of text for each store activation\n",
    "    blocks = text.split(\"==============================Store activation in INT2==============================\")\n",
    "    \n",
    "    for block in blocks:\n",
    "        # Find act mem\n",
    "        mem_search = re.search('Act Mem: (\\d+.\\d+) MB', block)\n",
    "        if mem_search is not None:\n",
    "            mem = float(mem_search.group(1))\n",
    "            mems.append(mem)\n",
    "            \n",
    "        # Find epoch/s\n",
    "        speed_search = re.search('epoch/s: (\\d+.\\d+)', block)\n",
    "        if speed_search is not None:\n",
    "            speed = float(speed_search.group(1))\n",
    "            speeds.append(speed)\n",
    "            \n",
    "        #Find energy - Get the second occurrence\n",
    "        energy_search = re.findall('(\\d+.\\d+) kWh', block)\n",
    "        if energy_search and len(energy_search) > 1:\n",
    "            energy = float(energy_search[1])  # get the second energy occurrence\n",
    "            energies.append(energy)\n",
    "\n",
    "print(\"Mems: \", mems)\n",
    "print(\"Speeds: \", speeds)\n",
    "print(\"Energies: \", energies)"
   ]
  },
  {
   "cell_type": "code",
   "execution_count": 2,
   "metadata": {},
   "outputs": [],
   "source": [
    "for i in range(0, len(mems), 5):\n",
    "    if i == 0:\n",
    "        print('mem avg:', sum(mems[i+2:i+5])/3)\n",
    "        print('speed avg:', sum(speeds[i+2:i+5])/3)\n",
    "        print('energy avg:', sum(energies[i+2:i+5])/3 * 1000)\n",
    "        print()\n",
    "    else:\n",
    "        print('mem avg:', sum(mems[i:i+5])/5)\n",
    "        print('speed avg:', sum(speeds[i:i+5])/5)\n",
    "        print('energy avg:', sum(energies[i:i+5])/5 * 1000)\n",
    "        print()"
   ]
  },
  {
   "cell_type": "code",
   "execution_count": 8,
   "metadata": {},
   "outputs": [
    {
     "name": "stdout",
     "output_type": "stream",
     "text": [
      "Highest Train:  98.45\n",
      "Highest Train std:  0.268\n",
      "Highest Valid:  51.754\n",
      "Highest Valid std:  0.158\n",
      "Final Train:  60.334\n",
      "Final Train std:  2.212\n",
      "Final Test:  51.69799999999999\n",
      "Final Test std:  0.20400000000000001\n"
     ]
    }
   ],
   "source": [
    "import re\n",
    "\n",
    "highest_train = []\n",
    "highest_train_stds = []\n",
    "highest_valid = []\n",
    "highest_valid_stds = []\n",
    "final_train = []\n",
    "final_train_stds = []\n",
    "final_test = []\n",
    "final_test_stds = []\n",
    "\n",
    "with open(f'{other_dir}/output_g_flickr_no_optimal_lo_long_acc.txt', 'r') as file:\n",
    "    lines = file.readlines()\n",
    "    for index, line in enumerate(lines):\n",
    "        if \"All runs:\" in line:\n",
    "            for i in range(1, 5):  # Loop over the next 4 lines\n",
    "                value_line = lines[index + i]\n",
    "                value, std_dev = re.search(r'(\\d+.\\d+) ± (\\d+.\\d+)', value_line).groups()\n",
    "                if 'Highest Train' in value_line:\n",
    "                    highest_train.append(float(value))\n",
    "                    highest_train_stds.append(float(std_dev))\n",
    "                elif 'Highest Valid' in value_line:\n",
    "                    highest_valid.append(float(value))\n",
    "                    highest_valid_stds.append(float(std_dev))\n",
    "                elif 'Final Train' in value_line:\n",
    "                    final_train.append(float(value))\n",
    "                    final_train_stds.append(float(std_dev))\n",
    "                elif 'Final Test' in value_line:\n",
    "                    final_test.append(float(value))\n",
    "                    final_test_stds.append(float(std_dev))\n",
    "\n",
    "print(\"Highest Train: \", sum(highest_train)/5)\n",
    "print(\"Highest Train std: \", sum(highest_train_stds)/5)\n",
    "print(\"Highest Valid: \", sum(highest_valid)/5)\n",
    "print(\"Highest Valid std: \", sum(highest_valid_stds)/5)\n",
    "print(\"Final Train: \", sum(final_train)/5)\n",
    "print(\"Final Train std: \", sum(final_train_stds)/5)\n",
    "print(\"Final Test: \", sum(final_test)/5)\n",
    "print(\"Final Test std: \", sum(final_test_stds)/5)\n"
   ]
  },
  {
   "attachments": {},
   "cell_type": "markdown",
   "metadata": {},
   "source": [
    "### no opt\n",
    "- Highest Train:  98.45\n",
    "- Highest Train std:  0.268\n",
    "- Highest Valid:  51.754\n",
    "- Highest Valid std:  0.158\n",
    "- Final Train:  60.334\n",
    "- Final Train std:  2.212\n",
    "- Final Test:  51.69799999999999\n",
    "- Final Test std:  0.20400000000000001"
   ]
  },
  {
   "attachments": {},
   "cell_type": "markdown",
   "metadata": {},
   "source": [
    "### with opt\n",
    "\n",
    "- Highest Train:  98.56\n",
    "- Highest Train std:  0.17400000000000002\n",
    "- Highest Valid:  51.736000000000004\n",
    "- Highest Valid std:  0.194\n",
    "- Final Train:  59.544000000000004\n",
    "- Final Train std:  2.056\n",
    "- Final Test:  51.72800000000001\n",
    "- Final Test std:  0.156"
   ]
  },
  {
   "cell_type": "markdown",
   "metadata": {},
   "source": []
  }
 ],
 "metadata": {
  "kernelspec": {
   "display_name": "exact",
   "language": "python",
   "name": "python3"
  },
  "language_info": {
   "codemirror_mode": {
    "name": "ipython",
    "version": 3
   },
   "file_extension": ".py",
   "mimetype": "text/x-python",
   "name": "python",
   "nbconvert_exporter": "python",
   "pygments_lexer": "ipython3",
   "version": "3.7.12"
  },
  "orig_nbformat": 4
 },
 "nbformat": 4,
 "nbformat_minor": 2
}
